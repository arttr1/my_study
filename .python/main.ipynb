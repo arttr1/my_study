{
 "cells": [
  {
   "cell_type": "markdown",
   "id": "d577a168",
   "metadata": {},
   "source": [
    "# tasks from codewars"
   ]
  },
  {
   "cell_type": "code",
   "execution_count": null,
   "id": "082b6307",
   "metadata": {},
   "outputs": [
    {
     "name": "stdout",
     "output_type": "stream",
     "text": [
      "1\n"
     ]
    }
   ],
   "source": [
    "def delete_nth(order, max_e):\n",
    "    set_order = list(set(order))\n",
    "    counter = [max_e]*len(set_order)\n",
    "    \n",
    "    answer_list = []\n",
    "    for i in order:\n",
    "        if counter[set_order.index(i)] - 1 >= 0: answer_list.append(i)\n",
    "        counter[set_order.index(i)] -= 1\n",
    "    return answer_list"
   ]
  },
  {
   "cell_type": "markdown",
   "id": "1831c785",
   "metadata": {},
   "source": [
    "## sum of carries"
   ]
  },
  {
   "cell_type": "markdown",
   "id": "6c6971b4",
   "metadata": {},
   "source": [
    "### my solve"
   ]
  },
  {
   "cell_type": "code",
   "execution_count": 8,
   "id": "5d234d54",
   "metadata": {},
   "outputs": [
    {
     "name": "stdout",
     "output_type": "stream",
     "text": [
      "4\n"
     ]
    }
   ],
   "source": [
    "def number_of_carries(a: int, b: int ) -> int:\n",
    "    carry = 0\n",
    "    carries_count = 0\n",
    "    \n",
    "    a = str(a).zfill(max(len(str(a)), len(str(b))))[::-1]\n",
    "    b = str(b).zfill(max(len(str(a)), len(str(b))))[::-1]\n",
    "\n",
    "    for i in range(len(a)):\n",
    "        digits_sum = int(a[i]) + int(b[i]) + carry\n",
    "        carry = digits_sum // 10\n",
    "\n",
    "        if carry > 0: carries_count += 1\n",
    "    return carries_count\n",
    "\n",
    "print(number_of_carries(9999, 1))\n"
   ]
  },
  {
   "cell_type": "markdown",
   "id": "ca0468b1",
   "metadata": {},
   "source": [
    "### genious solve"
   ]
  },
  {
   "cell_type": "code",
   "execution_count": null,
   "id": "6901dfbb",
   "metadata": {},
   "outputs": [
    {
     "name": "stdout",
     "output_type": "stream",
     "text": [
      "0\n"
     ]
    }
   ],
   "source": [
    "def digits_sum(n: int) -> int:\n",
    "    return sum(map(int, str(n)))\n",
    "\n",
    "def number_of_carries(a: int, b: int) -> int:\n",
    "    return digits_sum(a + b) // 9\n",
    "\n",
    "#в чем суть-то?\n",
    "#при каждом переносе итоговая сумма именьшается на 9 (цифра + цифра + перенос - 10; а в другой разряд + 1)\n",
    "#получаем итоговое изменение суммы, ну и все\n",
    "\n",
    "print(number_of_carries(9999, 1))"
   ]
  },
  {
   "cell_type": "markdown",
   "id": "901edb2e",
   "metadata": {},
   "source": [
    "## football points "
   ]
  },
  {
   "cell_type": "code",
   "execution_count": 1,
   "id": "4f58d172",
   "metadata": {},
   "outputs": [
    {
     "name": "stdout",
     "output_type": "stream",
     "text": [
      "3\n"
     ]
    }
   ],
   "source": [
    "def points(games: list[str]) -> int:\n",
    "    total_points = 0\n",
    "    for _ in games:\n",
    "        x, y = _.split(':')\n",
    "        if x > y: total_points += 3\n",
    "        if x == y: total_points += 1\n",
    "    return total_points\n",
    "\n",
    "print(points(['3:1']))\n",
    "        "
   ]
  },
  {
   "cell_type": "markdown",
   "id": "f5f8baa3",
   "metadata": {},
   "source": [
    "## pig it"
   ]
  },
  {
   "cell_type": "code",
   "execution_count": 20,
   "id": "e556e1a5",
   "metadata": {},
   "outputs": [
    {
     "name": "stdout",
     "output_type": "stream",
     "text": [
      "Oay emporatay oay oresmay !\n"
     ]
    }
   ],
   "source": [
    "def pig_it(text: str) -> str:\n",
    "    text = text.split()\n",
    "    answer = ''\n",
    "    \n",
    "    for word in text:\n",
    "        if word.isalpha():\n",
    "            answer += (word[1:] + word[0] + 'ay ')\n",
    "        else: answer += (word + ' ') \n",
    "\n",
    "    return answer[:len(answer) - 1]\n",
    "\n",
    "print(pig_it('O tempora o mores !'))"
   ]
  },
  {
   "cell_type": "markdown",
   "id": "425288b6",
   "metadata": {},
   "source": [
    "## sliceprimes\n"
   ]
  },
  {
   "cell_type": "markdown",
   "id": "e21a0913",
   "metadata": {},
   "source": [
    "### что такое вообще sliceprime?\n",
    "это число, такое что каждая его подстрока (логично что и само число тоже) есть простое число\n",
    "\n",
    "**пример:** число *373* - sliceprime, потому что *3*, *7*, *37*, *73*, *373* - простые числа\n",
    "\n",
    "\n",
    "#### а чего делать-то?\n",
    "- ну надо 100% проверять число на простоту\n",
    "- надо переводить в 10-ую сс\n",
    "- надо переводить из 10-ой в n-ую сс\n",
    "- надо генереить все подстроки для какой-то строки(числа)\n",
    "- нужно проверять является ли число sliceprime"
   ]
  },
  {
   "cell_type": "code",
   "execution_count": 76,
   "id": "c7545c83",
   "metadata": {},
   "outputs": [
    {
     "name": "stdout",
     "output_type": "stream",
     "text": [
      "TBJHD\n"
     ]
    }
   ],
   "source": [
    "def is_prime(n: int) -> int: #проверка числа на простоту\n",
    "    if n < 2: return False\n",
    "    for i in range(2, int(n ** 0.5) + 1): \n",
    "        if n % i == 0: return False\n",
    "    return True\n",
    "\n",
    "def to_base_10(s: str, base: int) -> int: #перевод числа в 10-ую сс из n-ой\n",
    "    value = 0\n",
    "    for char in s:\n",
    "        if char.isdigit(): digit = int(char)\n",
    "        else: digit = ord(char) - ord('A') + 10\n",
    "        value = value * base + digit\n",
    "    return value\n",
    "\n",
    "def to_base_n(number: int, base: int) -> str: #перевод числа в n-ую сс из 10-ой\n",
    "    value = ''\n",
    "    if number == 0: return '0'\n",
    "    while number > 0:\n",
    "        digit = number % base\n",
    "        if digit < 10:\n",
    "            value += str(digit)\n",
    "        else:\n",
    "            value += chr(ord(\"A\") + digit - 10)\n",
    "        number //= base\n",
    "    return value[::-1]\n",
    "\n",
    "def all_substrings(s: str) -> list[str]: #генерация всех подстрок строки s\n",
    "    substrings = [s[i:j] for i in range(len(s)) for j in range(i + 1, len(s) + 1)]\n",
    "    return substrings\n",
    "\n",
    "def is_sliceprime(s: str, base: int) -> bool: #проверка является ли число sliceprime\n",
    "    return all(is_prime(to_base_10(substr, base)) for substr in all_substrings(s))\n",
    "\n",
    "def sliceprime(n:int, k:int) -> str:\n",
    "    #генерация листа со всеми цифрами в сс с основанием n\n",
    "    digits = [str(i) for i in range(min(10, n))] + [chr(ord('A') + i) for i in range(n - 10) if n > 10]\n",
    "    \n",
    "    #генерация листа с однозначными sliceprimes (однозначными в n-ой сс конечно же)\n",
    "    sliceprimes = [digit for digit in digits if is_prime(to_base_10(digit, n))]\n",
    "\n",
    "    i = 0\n",
    "    while i < len(sliceprimes):\n",
    "        cur = sliceprimes[i]\n",
    "        for dig in digits:\n",
    "            canditate = cur + dig\n",
    "            if is_sliceprime(canditate, n): sliceprimes.append(canditate)\n",
    "        i += 1\n",
    "    sliceprimes.sort(key=len)\n",
    "    if k <= len(sliceprimes): return sliceprimes[k - 1]\n",
    "    return ''\n",
    "\n",
    "print(sliceprime(30, 160))"
   ]
  },
  {
   "cell_type": "markdown",
   "id": "b59fc56a",
   "metadata": {},
   "source": [
    "### гениальное решение"
   ]
  },
  {
   "cell_type": "code",
   "execution_count": null,
   "id": "b4234545",
   "metadata": {},
   "outputs": [
    {
     "name": "stdout",
     "output_type": "stream",
     "text": [
      "7\n"
     ]
    }
   ],
   "source": [
    "from gmpy2 import is_prime\n",
    "\n",
    "alphabet = '0123456789ABCDEFGHIJKLMNOPQRSTUVWXYZ'\n",
    "BASES = {}\n",
    "for b in range(2, 37):\n",
    "    digits = [d for d in alphabet[:b] if is_prime(int(d, b))]\n",
    "    bag, slices = [''], []\n",
    "    while bag:\n",
    "        candidates = (d+x for x in bag for d in digits)\n",
    "        bag = [x for x in candidates if all(is_prime(int(x[:i], b)) for i in range(1, len(x)+1))]\n",
    "        slices.extend(bag)\n",
    "    BASES[b] = sorted(slices, key=lambda x: int(x, b))\n",
    "\n",
    "\n",
    "def sliceprime(n:int, k:int):\n",
    "    return BASES[n][k-1] if 2 <= n <= 36 and k <= len(BASES[n]) else ''"
   ]
  },
  {
   "cell_type": "markdown",
   "id": "9ac49dff",
   "metadata": {},
   "source": [
    "## pyramid slide down "
   ]
  },
  {
   "cell_type": "code",
   "execution_count": null,
   "id": "28a196d8",
   "metadata": {},
   "outputs": [
    {
     "name": "stdout",
     "output_type": "stream",
     "text": [
      "[23]\n",
      "[130]\n"
     ]
    }
   ],
   "source": [
    "def longest_slide_down(pyramid):\n",
    "    dp = pyramid[-1].copy()\n",
    "    for row in range(len(pyramid) - 2, -1, -1):\n",
    "        new_dp = []\n",
    "        for column in range(len(pyramid[row])):\n",
    "            max_path = pyramid[row][column] + max(dp[column], dp[column + 1])\n",
    "            new_dp.append(max_path)\n",
    "        dp = new_dp\n",
    "    return dp[0]\n",
    "\n",
    "print(longest_slide_down([[3], [7, 4], [2, 4, 6], [8, 5, 9, 3]]))  # Должно вернуть 23\n",
    "print(longest_slide_down([[10], [10, 20], [10, 10, 20], [10, 90, 10, 20]]))  # Должно вернуть 130"
   ]
  },
  {
   "cell_type": "code",
   "execution_count": null,
   "id": "aafcb345",
   "metadata": {},
   "outputs": [
    {
     "name": "stdout",
     "output_type": "stream",
     "text": [
      "[23]\n",
      "[130]\n"
     ]
    }
   ],
   "source": [
    "def max_slide_down(pyramid):\n",
    "    dp = pyramid.pop() # берем нижний ряд пирамиды \n",
    "    while pyramid: # проходимся по ряду выше и для каждого элемента берем максимум из двух элементов с ряда ниже\n",
    "        new_dp = pyramid.pop() # ряд выше\n",
    "\n",
    "        dp = [(new_dp[i] + max(dp[i], dp[i + 1])) for i in range(len(new_dp))] \n",
    "        # обновляем нижний ряд (тут максимальные пути от каждого элемента нового ряда до низа пирамиды)\n",
    "        \n",
    "    return dp[0]\n",
    "\n",
    "# Тестовые случаи\n",
    "print(max_slide_down([[3], [7, 4], [2, 4, 6], [8, 5, 9, 3]]))  # Должно вернуть 23\n",
    "print(max_slide_down([[10], [10, 20], [10, 10, 20], [10, 90, 10, 20]]))  # Должно вернуть 130"
   ]
  },
  {
   "cell_type": "markdown",
   "id": "158c3f3e",
   "metadata": {},
   "source": [
    "## connect the dots"
   ]
  },
  {
   "cell_type": "code",
   "execution_count": null,
   "id": "ce4a5ccf",
   "metadata": {},
   "outputs": [
    {
     "name": "stdout",
     "output_type": "stream",
     "text": [
      "[' ', ' ', ' ', ' ', ' ', ' ', ' ', ' ', ' ', ' ', ' ']\n",
      "[' ', ' ', ' ', ' ', ' ', 'a', ' ', ' ', ' ', ' ', ' ']\n",
      "[' ', ' ', ' ', ' ', 'e', ' ', ' ', ' ', ' ', ' ', ' ']\n",
      "[' ', ' ', ' ', ' ', ' ', ' ', ' ', ' ', ' ', ' ', ' ']\n",
      "[' ', ' ', 'd', ' ', ' ', ' ', ' ', ' ', 'b', ' ', ' ']\n",
      "[' ', ' ', ' ', ' ', ' ', ' ', ' ', ' ', ' ', ' ', ' ']\n",
      "[' ', ' ', ' ', ' ', ' ', ' ', ' ', ' ', ' ', ' ', ' ']\n",
      "[' ', ' ', ' ', ' ', ' ', 'c', ' ', ' ', ' ', ' ', ' ']\n",
      "[' ', ' ', ' ', ' ', ' ', ' ', ' ', ' ', ' ', ' ', ' ']\n"
     ]
    }
   ],
   "source": [
    "def str_to_list(paper: str) -> list[str]:\n",
    "    lines = paper.split('\\n')\n",
    "    matrix = [list(line) for line in lines]\n",
    "    return matrix[:len(matrix) - 1]\n",
    "\n",
    "def find_symbol(matrix: list[str], symbol: str) -> tuple[int, int]:\n",
    "    for i in range(len(matrix)):\n",
    "        if symbol in matrix[i]: return (i, matrix[i].index(symbol))\n",
    "    return None\n",
    "\n",
    "def horizontal_connect(i: int, j1: int, j2: int, matrix: list[str]) -> list[str]:\n",
    "    for j in range(j1, j2 + 1):\n",
    "        matrix[i][j] = '*'\n",
    "    return matrix\n",
    "\n",
    "def vertical_connect(j: int, i1: int, i2: int, matrix: list[str]) -> list[str]:\n",
    "    for i in range(i1, i2 + 1):\n",
    "        matrix[i][j] = '*'\n",
    "    return matrix\n",
    "\n",
    "def diagonal_connect(j1: int, j2: int, i1: int, i2: int, matrix: list[str]) -> list[str]:\n",
    "    if i1 < i2:\n",
    "        if j1 < j2:\n",
    "            j = j1\n",
    "            for i in range(i1, i2 + 1):\n",
    "                matrix[i][j] = '*'\n",
    "                j += 1\n",
    "        if j1 > j2:\n",
    "            j = j1\n",
    "            for i in range(i1, i2 + 1):\n",
    "                matrix[i][j] = '*'\n",
    "                j -= 1\n",
    "    if i1 > i2:\n",
    "        if j1 > j2:\n",
    "            j = j2\n",
    "            for i in range(i2, i1 + 1):\n",
    "                matrix[i][j] = '*'\n",
    "                j += 1\n",
    "        if j1 < j2:\n",
    "            j = j2\n",
    "            for i in range(i2, i1 + 1):\n",
    "                matrix[i][j] = '*'\n",
    "                j -= 1\n",
    "    return matrix\n",
    "\n",
    "def connect_the_dots(paper):\n",
    "    matrix = str_to_list(paper)\n",
    "    indexes = [find_symbol(matrix, chr(_)) for _ in range(ord('a'), ord('z')+1)]\n",
    "\n",
    "    for index in range(1, len(indexes)):\n",
    "        if indexes[index] != None:\n",
    "            if indexes[index][0] == indexes[index - 1][0]: \n",
    "                horizontal_connect(indexes[index][0], min(indexes[index - 1][1], indexes[index][1]), max(indexes[index - 1][1], indexes[index][1]), matrix) \n",
    "            elif indexes[index][1] == indexes[index - 1][1]:\n",
    "                vertical_connect(indexes[index][1], min(indexes[index - 1][0], indexes[index][0]), max(indexes[index - 1][0], indexes[index][0]), matrix)\n",
    "            elif abs(indexes[index][1] - indexes[index - 1][1]) == abs(indexes[index][0] - indexes[index - 1][0]):\n",
    "                diagonal_connect(indexes[index - 1][1], indexes[index][1], indexes[index - 1][0], indexes[index][0], matrix)\n",
    "    s = ''\n",
    "    for line in matrix:\n",
    "        s += (''.join(line) + \"\\n\")\n",
    "    return s "
   ]
  },
  {
   "cell_type": "markdown",
   "id": "e8a061d8",
   "metadata": {},
   "source": [
    "вроде победа, но это пизда какое уебанское решение\n",
    "его надо оптимизировать\n",
    "\n",
    "так глянул я краем глаза решения и это трэш конечно, как я вообще додумался написать эту ебатню"
   ]
  },
  {
   "cell_type": "code",
   "execution_count": 140,
   "id": "14f0c625",
   "metadata": {},
   "outputs": [
    {
     "name": "stdout",
     "output_type": "stream",
     "text": [
      "           \n",
      "     *     \n",
      "    * *    \n",
      "   *   *   \n",
      "  *     *  \n",
      "   *   *   \n",
      "    * *    \n",
      "     *     \n",
      "           \n",
      "\n"
     ]
    }
   ],
   "source": [
    "def connect_the_dots(paper):\n",
    "    Y    = paper.find(\"\\n\")+1\n",
    "    lst  = list(paper)\n",
    "    pts  = {c: i for i,c in enumerate(paper) if c.isalpha() }\n",
    "    chrs = sorted(pts)\n",
    "    \n",
    "    for i in range(len(pts)-1):\n",
    "        a,b = sorted((pts[chrs[i]], pts[chrs[i+1]]))\n",
    "        (x,y),(u,v) = divmod(a,Y), divmod(b,Y)\n",
    "        dx, dy = Y * ( (u>x)-(u<x) ), (v>y)-(v<y)\n",
    "    \n",
    "        for j in range(a,b+1,dx+dy): lst[j]='*'\n",
    "    \n",
    "    return ''.join(lst)\n",
    "s = (\n",
    "            \"           \\n\" +\n",
    "            \"     a     \\n\" +\n",
    "            \"    e      \\n\" +\n",
    "            \"           \\n\" +      \n",
    "            \"  d     b  \\n\" +\n",
    "            \"           \\n\" +      \n",
    "            \"           \\n\" +\n",
    "            \"     c     \\n\" +\n",
    "            \"           \\n\")\n",
    "print(connect_the_dots(s))"
   ]
  },
  {
   "cell_type": "code",
   "execution_count": 141,
   "id": "aa5a448b",
   "metadata": {},
   "outputs": [
    {
     "name": "stdout",
     "output_type": "stream",
     "text": [
      "           \n",
      "     *     \n",
      "    * *    \n",
      "   *   *   \n",
      "  *     *  \n",
      "   *   *   \n",
      "    * *    \n",
      "     *     \n",
      "           \n",
      "\n"
     ]
    }
   ],
   "source": [
    "def connect_the_dots(s):\n",
    "    a = list(map(list, s.split(\"\\n\")))\n",
    "    d = {y: (i, j) for i, x in enumerate(a) for j, y in enumerate(x) if y != \" \"}\n",
    "    b = sorted(d)\n",
    "    for p, p0 in zip(b, b[1:]):\n",
    "        (x, y), (x0, y0) = d[p], d[p0]\n",
    "        dx, dy = f(x0 - x), f(y0 - y)\n",
    "        while x != x0 or y != y0:\n",
    "            a[x][y], x, y = \"*\", x + dx, y + dy\n",
    "    a[x][y] = \"*\"\n",
    "    return \"\\n\".join(map(\"\".join, a))\n",
    "\n",
    "def f(n):\n",
    "    return n and n // abs(n)\n",
    "\n",
    "s = (\n",
    "            \"           \\n\" +\n",
    "            \"     a     \\n\" +\n",
    "            \"    e      \\n\" +\n",
    "            \"           \\n\" +      \n",
    "            \"  d     b  \\n\" +\n",
    "            \"           \\n\" +      \n",
    "            \"           \\n\" +\n",
    "            \"     c     \\n\" +\n",
    "            \"           \\n\")\n",
    "print(connect_the_dots(s))"
   ]
  },
  {
   "cell_type": "markdown",
   "id": "73c767d1",
   "metadata": {},
   "source": [
    "то что выше надо разобрать, выглядить страшно (но все же лучше чем ме решение)"
   ]
  }
 ],
 "metadata": {
  "kernelspec": {
   "display_name": "Python 3",
   "language": "python",
   "name": "python3"
  },
  "language_info": {
   "codemirror_mode": {
    "name": "ipython",
    "version": 3
   },
   "file_extension": ".py",
   "mimetype": "text/x-python",
   "name": "python",
   "nbconvert_exporter": "python",
   "pygments_lexer": "ipython3",
   "version": "3.13.5"
  }
 },
 "nbformat": 4,
 "nbformat_minor": 5
}
